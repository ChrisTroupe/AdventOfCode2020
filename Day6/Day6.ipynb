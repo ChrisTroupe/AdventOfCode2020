{
 "cells": [
  {
   "cell_type": "code",
   "execution_count": 1,
   "metadata": {},
   "outputs": [],
   "source": [
    "%matplotlib inline\n",
    "import numpy as np\n",
    "import pandas as pd\n",
    "import matplotlib.pyplot as plt"
   ]
  },
  {
   "cell_type": "code",
   "execution_count": 13,
   "metadata": {},
   "outputs": [
    {
     "name": "stdout",
     "output_type": "stream",
     "text": [
      "6778\n"
     ]
    }
   ],
   "source": [
    "import re\n",
    "import json\n",
    "    \n",
    "file_name = 'real_input.txt'\n",
    "file = open(file_name, \"r\")\n",
    "contents = file.read()\n",
    "unpacked_list = []\n",
    "unpacked_list.append(contents.split(sep=\"\\n\\n\"))    \n",
    "# Unpacking - why do I have to do this? \n",
    "[entry_list] = unpacked_list\n",
    "unique_answer = []\n",
    "total_num = 0\n",
    "for entry in entry_list:\n",
    "    unique_answer = []\n",
    "    entry = entry.replace('\\n', \"\") \n",
    "    for letter in entry:\n",
    "        if letter not in unique_answer:\n",
    "            unique_answer.append(letter)\n",
    "            total_num += 1\n",
    "#     print(entry)\n",
    "print(total_num)\n"
   ]
  },
  {
   "cell_type": "code",
   "execution_count": 94,
   "metadata": {},
   "outputs": [
    {
     "name": "stdout",
     "output_type": "stream",
     "text": [
      "3406\n"
     ]
    }
   ],
   "source": [
    "# Part 2\n",
    "import re\n",
    "import json\n",
    "    \n",
    "file_name = \"real_input.txt\"\n",
    "file = open(file_name, \"r\")\n",
    "contents = file.read()\n",
    "unpacked_list = []\n",
    "unpacked_list.append(contents.split(sep=\"\\n\\n\"))    \n",
    "# Unpacking - why do I have to do this? \n",
    "[entry_list] = unpacked_list\n",
    "unique_answer = []\n",
    "total_num = 0\n",
    "takeout_one=0\n",
    "for team in entry_list:\n",
    "    # This is the list of individual answers \n",
    "    individual_answers = team.split('\\n') \n",
    "#     print(individual_answers)\n",
    "    total_possible = len(individual_answers[0])   \n",
    "    for letter in individual_answers[0]: #Iterate 7 times\n",
    "        for num_answers in range(0,(len(individual_answers)-1)): #Iterate 1 times, 0\n",
    "            if(letter not in individual_answers[num_answers+1]):\n",
    "#                 print(letter, \" Did not show up anywhere in \", individual_answers[num_answers+1])\n",
    "                total_possible-=1\n",
    "                break\n",
    "    total_num+=total_possible\n",
    "#             if(num_answers == (len(individual_answers)-1)):\n",
    "#                 total_num+=1  \n",
    "print(total_num)\n"
   ]
  },
  {
   "cell_type": "markdown",
   "metadata": {},
   "source": []
  },
  {
   "cell_type": "code",
   "execution_count": null,
   "metadata": {},
   "outputs": [],
   "source": []
  }
 ],
 "metadata": {
  "kernelspec": {
   "display_name": "Python 3",
   "language": "python",
   "name": "python3"
  },
  "language_info": {
   "codemirror_mode": {
    "name": "ipython",
    "version": 3
   },
   "file_extension": ".py",
   "mimetype": "text/x-python",
   "name": "python",
   "nbconvert_exporter": "python",
   "pygments_lexer": "ipython3",
   "version": "3.8.5"
  }
 },
 "nbformat": 4,
 "nbformat_minor": 4
}
